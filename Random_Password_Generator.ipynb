{
 "cells": [
  {
   "cell_type": "code",
   "execution_count": 5,
   "id": "db83a430",
   "metadata": {},
   "outputs": [],
   "source": [
    "import string\n",
    "import random\n"
   ]
  },
  {
   "cell_type": "code",
   "execution_count": 6,
   "id": "77a06099",
   "metadata": {},
   "outputs": [],
   "source": [
    "alphabets = list(string.ascii_letters)\n",
    "digits = list(string.digits)\n",
    "special_characters = list(\"!@#$%^&*\")\n",
    "characters = list(string.ascii_letters + string.digits + \"!@#$%^&*\")"
   ]
  },
  {
   "cell_type": "code",
   "execution_count": 7,
   "id": "ab972e1d",
   "metadata": {},
   "outputs": [
    {
     "name": "stdout",
     "output_type": "stream",
     "text": [
      "Enter password length: 15\n",
      "Enter alphabets count in password: 5\n",
      "Enter digits count in password: 5\n",
      "Enter special characters count iin password: 5\n",
      "J%*@#*8w289g8RP\n"
     ]
    }
   ],
   "source": [
    "def generate_random_password():\n",
    "    length = int(input(\"Enter password length: \"))\n",
    "    alphabets_count = int(input(\"Enter alphabets count in password: \"))\n",
    "    digits_count = int(input(\"Enter digits count in password: \"))\n",
    "    special_characters_count = int(input(\"Enter special characters count iin password: \"))\n",
    "    characters_count = alphabets_count + digits_count + special_characters_count\n",
    "    \n",
    "    if characters_count > length:\n",
    "        print(\"Characters total count is greater than the password lenght\")\n",
    "        return\n",
    "    password = []\n",
    "    \n",
    "    for i in range(alphabets_count):\n",
    "        password.append(random.choice(alphabets))\n",
    "        \n",
    "    for i in range(digits_count):\n",
    "        password.append(random.choice(digits))\n",
    "        \n",
    "    for i in range(special_characters_count):\n",
    "        password.append(random.choice(special_characters))\n",
    "        \n",
    "    if characters_count < length:\n",
    "        random.shuffle(characters)\n",
    "        for i in range(length - characters_count):\n",
    "            password.append(random.choice(characters))\n",
    "    \n",
    "    random.shuffle(password)\n",
    "    print(\"\".join(password))\n",
    "    \n",
    "generate_random_password()"
   ]
  },
  {
   "cell_type": "code",
   "execution_count": null,
   "id": "b5f3d879",
   "metadata": {},
   "outputs": [],
   "source": []
  }
 ],
 "metadata": {
  "kernelspec": {
   "display_name": "Python 3 (ipykernel)",
   "language": "python",
   "name": "python3"
  },
  "language_info": {
   "codemirror_mode": {
    "name": "ipython",
    "version": 3
   },
   "file_extension": ".py",
   "mimetype": "text/x-python",
   "name": "python",
   "nbconvert_exporter": "python",
   "pygments_lexer": "ipython3",
   "version": "3.10.4"
  }
 },
 "nbformat": 4,
 "nbformat_minor": 5
}
